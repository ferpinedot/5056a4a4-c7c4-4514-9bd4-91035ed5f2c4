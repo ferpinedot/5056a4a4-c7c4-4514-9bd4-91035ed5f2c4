{
  "nbformat": 4,
  "nbformat_minor": 0,
  "metadata": {
    "colab": {
      "provenance": [],
      "authorship_tag": "ABX9TyNLKGIa1WeoLvozQHlFJt4D",
      "include_colab_link": true
    },
    "kernelspec": {
      "name": "python3",
      "display_name": "Python 3"
    },
    "language_info": {
      "name": "python"
    }
  },
  "cells": [
    {
      "cell_type": "markdown",
      "metadata": {
        "id": "view-in-github",
        "colab_type": "text"
      },
      "source": [
        "<a href=\"https://colab.research.google.com/github/ferpinedot/5056a4a4-c7c4-4514-9bd4-91035ed5f2c4/blob/master/U7A1.ipynb\" target=\"_parent\"><img src=\"https://colab.research.google.com/assets/colab-badge.svg\" alt=\"Open In Colab\"/></a>"
      ]
    },
    {
      "cell_type": "code",
      "execution_count": 1,
      "metadata": {
        "id": "I9Eh81kpRpe6"
      },
      "outputs": [],
      "source": [
        "#Función para imprimir arreglos\n",
        "def arreglo_pp(arr, nombre):\n",
        "  # Imprime el nombre del arreglo\n",
        "  print(nombre+\"\\t\", end=\"\")\n",
        "  # Itera sobre todo el arreglo\n",
        "  for i in range(len(arr)):\n",
        "    # Imprime todos los elementos en 6 espacios justificado a\n",
        "    # la derecha e imprime un | entre elementos sin saltar linea\n",
        "    print(\"|\"+str(arr[i]).rjust(6), end=\"\")\n",
        "  # Salto de linea\n",
        "  print(\"\")\n",
        "\n",
        "#Función para imprimir matrices\n",
        "def matriz_pp(M):\n",
        "  # Itera sobre cada fila de la matriz\n",
        "  for row in M:\n",
        "    # Imprime | al inicio de cada fila, no salta linea\n",
        "    print(\"|\", end=\"\")\n",
        "    # Itera para cada item (columna) de la fila actual\n",
        "    for item in row:\n",
        "      # Imprime el item de la celda centrado en 8 espacios sin saltar\n",
        "      print(f\"{item}\".center(8), end=\"\")\n",
        "    # Imprime un | para finalizar la fila de la matriz y salta la linea\n",
        "    print(\"|\")\n"
      ]
    },
    {
      "cell_type": "code",
      "source": [
        "#Función que imprime los objetos encontrados como parte de la solución\n",
        "def objetos_pp(w, v, objetos):\n",
        "  # Se inicializan los valores de la mochila sin objetos\n",
        "  valor = 0\n",
        "  peso = 0\n",
        "  # Se recorre el arreglo de objetos que deben estar en la mochila\n",
        "  for objeto in objetos:\n",
        "    # Se acumulan el peso y valor por cada objeto que forma parte de la solucion\n",
        "    valor += v[objeto - 1]\n",
        "    peso += w[objeto - 1]\n",
        "    # Se imprimen las caracteristicas de cada objeto que es parte de la solucion\n",
        "    print(f\"Objeto {objeto} con peso {w[objeto - 1]} y valor {v[objeto - 1]}\")\n",
        "  # Se imprime el valor y peso totales para la mochila\n",
        "  print(f\"Finalmente la mochila tendra un valor total de {valor} y peso de {peso}.\")\n"
      ],
      "metadata": {
        "id": "Uj_UYrJPRrt5"
      },
      "execution_count": 3,
      "outputs": []
    },
    {
      "cell_type": "code",
      "source": [
        "#Función de PD que recibe dos arreglos, uno con pesos y otro con precios manteniendo su orden de entrada\n",
        "#Recibe número total de objetos y la capacidad máxima que puede tener la mochila\n",
        "#Retorna la matriz que contiene la optimización de todos los problemas\n",
        "def mochila(w, v, n, W):\n",
        "  # Matriz que guarda los valores optimos para cada subproblema\n",
        "  V = [[0 for j in range(W+1)] for i in range(n+1)]\n",
        "  # Iteracion sobre los objetos en la mochila y los posibles pesos de la solucion optima\n",
        "  for i in range(1, n+1):\n",
        "    for x in range(0, W+1):\n",
        "      # Calculo del peso restante si se incluye el objeto actual\n",
        "      j = x - w[i-1]\n",
        "      # Verificacion de que el peso restante no sea menor a 0\n",
        "      if j < 0:\n",
        "        # Si el peso restante es menor a cero entonces se excluye el objeto actual\n",
        "        V[i][x] = max(V[i-1][x], 0)\n",
        "      else:\n",
        "        # Si el peso restante no es menor que 0 se debe elegir si incluir el objeto\n",
        "        # actual mejora la solucion o no\n",
        "        V[i][x] = max(V[i-1][x], V[i-1][j] + v[i-1])\n",
        "  # Retornar la tabla con los valores optimos.\n",
        "  return V"
      ],
      "metadata": {
        "id": "cmAJf1wtR8Fe"
      },
      "execution_count": 4,
      "outputs": []
    },
    {
      "cell_type": "code",
      "source": [
        "#Función que encuentra los objetos de la solución óptima\n",
        "def objetos(V, w, W):\n",
        "  # Lista que guarda los objetos seleccionados\n",
        "  obj = []\n",
        "  # La columna inicial es igual al peso total\n",
        "  col = W\n",
        "  # Se debe de recorrer la tabla de abajo hacia arriba\n",
        "  for i in range(len(V)-1, 0, -1):\n",
        "    # Si el valor de la celda de arriba es distinto al de la celda actual entonces\n",
        "    # el objeto guardado en la posicion i forma parte de la solucion\n",
        "    if V[i][col] != V[i-1][col]:\n",
        "      # Se guarda el objeto como parte de la solucion\n",
        "      obj.append(i)\n",
        "      # Se recorren las columnas equivalentes al peso total del objeto que\n",
        "      # forma parte de la solucion\n",
        "      col -= w[i-1]\n",
        "  # Se retornan los objetos que optimizan la mochila\n",
        "  return obj\n"
      ],
      "metadata": {
        "id": "FgUVdCwPTTzv"
      },
      "execution_count": 5,
      "outputs": []
    },
    {
      "cell_type": "code",
      "source": [
        "#Definimos la entrada de acuerdo al ejercicio\n",
        "# Variables de entrada\n",
        "w = [85, 26, 48, 21, 22, 95, 43, 45, 55, 52]\n",
        "v = [79, 32, 47, 18, 26, 85, 33, 40, 45, 59]\n",
        "n = len(w)\n",
        "W = 140\n",
        "print(f\"Para la mochila de tamaño {W} con {len(w)} objetos, se tienen los siguientes pesos y valores:\")\n",
        "# Impresion de variables de entrada\n",
        "arreglo_pp([i for i in range(1, len(w) + 1)], \"Objeto\")\n",
        "arreglo_pp(w, \"Peso\")\n",
        "arreglo_pp(v, \"Valor\")\n",
        "print(\"\")\n",
        "print(\"Se tiene la siguiente matriz de optimizacion:\")\n",
        "print(\"\")\n",
        "# Proceso\n",
        "V = mochila(w, v, n, W)\n",
        "items = objetos(V, w, W)\n",
        "# Impresion de variables de salida\n",
        "matriz_pp(V)\n",
        "print(\"\")\n",
        "print(\"Finalmente los objetos que deben de ser incluidos son:\")\n",
        "objetos_pp(w, v, items)\n",
        "print(\"Finalmente los objetos que deben de ser incluidos son:\")\n",
        "objetos_pp(w, v, items)\n"
      ],
      "metadata": {
        "colab": {
          "base_uri": "https://localhost:8080/"
        },
        "id": "duEI4PH5UMMn",
        "outputId": "1b2274ce-609a-4913-eca7-5026f63463e8"
      },
      "execution_count": 6,
      "outputs": [
        {
          "output_type": "stream",
          "name": "stdout",
          "text": [
            "Para la mochila de tamaño 140 con 10 objetos, se tienen los siguientes pesos y valores:\n",
            "Objeto\t|     1|     2|     3|     4|     5|     6|     7|     8|     9|    10\n",
            "Peso\t|    85|    26|    48|    21|    22|    95|    43|    45|    55|    52\n",
            "Valor\t|    79|    32|    47|    18|    26|    85|    33|    40|    45|    59\n",
            "\n",
            "Se tiene la siguiente matriz de optimizacion:\n",
            "\n",
            "|   0       0       0       0       0       0       0       0       0       0       0       0       0       0       0       0       0       0       0       0       0       0       0       0       0       0       0       0       0       0       0       0       0       0       0       0       0       0       0       0       0       0       0       0       0       0       0       0       0       0       0       0       0       0       0       0       0       0       0       0       0       0       0       0       0       0       0       0       0       0       0       0       0       0       0       0       0       0       0       0       0       0       0       0       0       0       0       0       0       0       0       0       0       0       0       0       0       0       0       0       0       0       0       0       0       0       0       0       0       0       0       0       0       0       0       0       0       0       0       0       0       0       0       0       0       0       0       0       0       0       0       0       0       0       0       0       0       0       0       0       0    |\n",
            "|   0       0       0       0       0       0       0       0       0       0       0       0       0       0       0       0       0       0       0       0       0       0       0       0       0       0       0       0       0       0       0       0       0       0       0       0       0       0       0       0       0       0       0       0       0       0       0       0       0       0       0       0       0       0       0       0       0       0       0       0       0       0       0       0       0       0       0       0       0       0       0       0       0       0       0       0       0       0       0       0       0       0       0       0       0       79      79      79      79      79      79      79      79      79      79      79      79      79      79      79      79      79      79      79      79      79      79      79      79      79      79      79      79      79      79      79      79      79      79      79      79      79      79      79      79      79      79      79      79      79      79      79      79      79      79      79      79      79      79      79      79   |\n",
            "|   0       0       0       0       0       0       0       0       0       0       0       0       0       0       0       0       0       0       0       0       0       0       0       0       0       0       32      32      32      32      32      32      32      32      32      32      32      32      32      32      32      32      32      32      32      32      32      32      32      32      32      32      32      32      32      32      32      32      32      32      32      32      32      32      32      32      32      32      32      32      32      32      32      32      32      32      32      32      32      32      32      32      32      32      32      79      79      79      79      79      79      79      79      79      79      79      79      79      79      79      79      79      79      79      79      79      79      79      79      79      79     111     111     111     111     111     111     111     111     111     111     111     111     111     111     111     111     111     111     111     111     111     111     111     111     111     111     111     111     111     111   |\n",
            "|   0       0       0       0       0       0       0       0       0       0       0       0       0       0       0       0       0       0       0       0       0       0       0       0       0       0       32      32      32      32      32      32      32      32      32      32      32      32      32      32      32      32      32      32      32      32      32      32      47      47      47      47      47      47      47      47      47      47      47      47      47      47      47      47      47      47      47      47      47      47      47      47      47      47      79      79      79      79      79      79      79      79      79      79      79      79      79      79      79      79      79      79      79      79      79      79      79      79      79      79      79      79      79      79      79      79      79      79      79      79      79     111     111     111     111     111     111     111     111     111     111     111     111     111     111     111     111     111     111     111     111     111     111     126     126     126     126     126     126     126     126   |\n",
            "|   0       0       0       0       0       0       0       0       0       0       0       0       0       0       0       0       0       0       0       0       0       18      18      18      18      18      32      32      32      32      32      32      32      32      32      32      32      32      32      32      32      32      32      32      32      32      32      50      50      50      50      50      50      50      50      50      50      50      50      50      50      50      50      50      50      50      50      50      50      65      65      65      65      65      79      79      79      79      79      79      79      79      79      79      79      79      79      79      79      79      79      79      79      79      79      97      97      97      97      97      97      97      97      97      97      97      97      97      97      97      97     111     111     111     111     111     111     111     111     111     111     111     111     111     111     111     111     111     111     111     111     111     129     129     129     129     129     129     129     129     129   |\n",
            "|   0       0       0       0       0       0       0       0       0       0       0       0       0       0       0       0       0       0       0       0       0       18      26      26      26      26      32      32      32      32      32      32      32      32      32      32      32      32      32      32      32      32      32      44      44      44      44      50      58      58      58      58      58      58      58      58      58      58      58      58      58      58      58      58      58      58      58      58      58      76      76      76      76      76      79      79      79      79      79      79      79      79      79      79      79      79      79      79      79      79      79      91      91      91      91      97     105     105     105     105     105     105     105     105     105     105     105     105     105     105     105     111     111     111     111     111     111     123     123     123     123     123     123     123     123     123     123     123     123     123     123     123     129     137     137     137     137     137     137     137     137   |\n",
            "|   0       0       0       0       0       0       0       0       0       0       0       0       0       0       0       0       0       0       0       0       0       18      26      26      26      26      32      32      32      32      32      32      32      32      32      32      32      32      32      32      32      32      32      44      44      44      44      50      58      58      58      58      58      58      58      58      58      58      58      58      58      58      58      58      58      58      58      58      58      76      76      76      76      76      79      79      79      79      79      79      79      79      79      79      79      79      79      79      79      79      79      91      91      91      91      97     105     105     105     105     105     105     105     105     105     105     105     105     105     105     105     111     111     111     111     111     111     123     123     123     123     123     123     123     123     123     123     123     123     123     123     123     129     137     137     137     137     137     137     137     137   |\n",
            "|   0       0       0       0       0       0       0       0       0       0       0       0       0       0       0       0       0       0       0       0       0       18      26      26      26      26      32      32      32      32      32      32      32      32      32      32      32      32      32      32      32      32      32      44      44      44      44      50      58      58      58      58      58      58      58      58      58      58      58      58      58      58      58      58      58      59      59      59      59      76      76      76      76      76      79      79      79      79      79      79      79      79      79      79      79      79      79      79      79      79      83      91      91      91      91      97     105     105     105     105     105     105     105     105     105     105     105     105     105     105     105     111     111     111     111     111     111     123     123     123     123     123     123     123     123     123     123     123     123     123     123     123     129     137     137     137     137     137     137     138     138   |\n",
            "|   0       0       0       0       0       0       0       0       0       0       0       0       0       0       0       0       0       0       0       0       0       18      26      26      26      26      32      32      32      32      32      32      32      32      32      32      32      32      32      32      32      32      32      44      44      44      44      50      58      58      58      58      58      58      58      58      58      58      58      58      58      58      58      58      58      59      59      66      66      76      76      76      76      76      79      79      79      79      79      79      79      79      79      79      79      79      79      79      84      84      84      91      91      98      98      98     105     105     105     105     105     105     105     105     105     105     105     105     105     105     105     111     111     111     116     116     116     123     123     123     123     123     123     123     123     123     123     123     123     123     123     123     129     137     137     137     137     137     137     138     138   |\n",
            "|   0       0       0       0       0       0       0       0       0       0       0       0       0       0       0       0       0       0       0       0       0       18      26      26      26      26      32      32      32      32      32      32      32      32      32      32      32      32      32      32      32      32      32      44      44      44      44      50      58      58      58      58      58      58      58      58      58      58      58      58      58      58      58      58      58      59      59      66      66      76      76      76      76      76      79      79      79      79      79      79      79      79      79      79      79      79      79      79      84      84      84      91      91      98      98      98     105     105     105     105     105     105     105     105     105     105     105     105     105     105     105     111     111     111     116     116     116     123     123     123     123     123     123     123     123     123     123     123     123     124     124     124     129     137     137     137     137     137     137     138     138   |\n",
            "|   0       0       0       0       0       0       0       0       0       0       0       0       0       0       0       0       0       0       0       0       0       18      26      26      26      26      32      32      32      32      32      32      32      32      32      32      32      32      32      32      32      32      32      44      44      44      44      50      58      58      58      58      59      59      59      59      59      59      59      59      59      59      59      59      59      59      59      66      66      76      76      76      76      77      85      85      85      85      91      91      91      91      91      91      91      91      91      91      91      91      91      91      91      98      98     103     105     105     105     109     117     117     117     117     117     117     117     117     117     117     117     117     117     117     117     117     117     123     123     125     125     135     135     135     135     135     138     138     138     138     138     138     138     138     138     138     138     138     138     138     143   |\n",
            "\n",
            "Finalmente los objetos que deben de ser incluidos son:\n",
            "Objeto 10 con peso 52 y valor 59\n",
            "Objeto 8 con peso 45 y valor 40\n",
            "Objeto 5 con peso 22 y valor 26\n",
            "Objeto 4 con peso 21 y valor 18\n",
            "Finalmente la mochila tendra un valor total de 143 y peso de 140.\n",
            "Finalmente los objetos que deben de ser incluidos son:\n",
            "Objeto 10 con peso 52 y valor 59\n",
            "Objeto 8 con peso 45 y valor 40\n",
            "Objeto 5 con peso 22 y valor 26\n",
            "Objeto 4 con peso 21 y valor 18\n",
            "Finalmente la mochila tendra un valor total de 143 y peso de 140.\n"
          ]
        }
      ]
    },
    {
      "cell_type": "code",
      "source": [],
      "metadata": {
        "id": "fjX1_1_BUY-9"
      },
      "execution_count": null,
      "outputs": []
    }
  ]
}